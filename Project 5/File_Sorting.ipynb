{
 "cells": [
  {
   "cell_type": "markdown",
   "metadata": {},
   "source": [
    "Testing to sort vlog footage in data order"
   ]
  },
  {
   "cell_type": "code",
   "execution_count": 337,
   "metadata": {},
   "outputs": [],
   "source": [
    "from datetime import datetime\n",
    "import os\n",
    "from os.path import join\n",
    "import time \n",
    "import pandas as pd\n",
    "import shutil "
   ]
  },
  {
   "cell_type": "code",
   "execution_count": 345,
   "metadata": {},
   "outputs": [],
   "source": [
    "folder_path = '/Users/shubhamjoshi/Desktop/Budapest footage/Budapest (all footage)'\n",
    "#this is the original folder containing the videos \n",
    "\n",
    "df = pd.DataFrame(columns=['File Name', 'Creation Date'])\n",
    "#creating an empty pandas dataframe to store file names which will be useful later on \n",
    "\n",
    "for filename in os.listdir(folder_path):\n",
    "    index = len(df)\n",
    "    #this statement allows to add entries to the previously created dataframe \n",
    "\n",
    "    fileloc = join(folder_path, filename)\n",
    "    #creating the address path to access the files \n",
    "\n",
    "    stats = os.stat(fileloc)\n",
    "    #obtain metadata of each file \n",
    "    creation = time.ctime(stats.st_birthtime)\n",
    "    #obtain the date and time of when each video was recorded \n",
    "\n",
    "    df.loc[index, 'File Name'] = filename\n",
    "    df.loc[index, 'Creation Date'] = creation\n",
    "    #add the file name and recording date to the dataframe "
   ]
  },
  {
   "cell_type": "code",
   "execution_count": 347,
   "metadata": {},
   "outputs": [],
   "source": [
    "df['Creation Date'] = pd.to_datetime(df['Creation Date'], errors='coerce')\n",
    "#convert the obtained date and time to a readable format \n",
    "\n",
    "df = df.sort_values('Creation Date', ascending = True)\n",
    "#sort the dataframe in order of creation date\n",
    "\n",
    "new_folder = '/Users/shubhamjoshi/Desktop/Budapest footage (chronological)'\n",
    "#the new folder where the files sorted by date will be copied into "
   ]
  },
  {
   "cell_type": "code",
   "execution_count": 348,
   "metadata": {},
   "outputs": [],
   "source": [
    "df = df.reset_index()\n",
    "df = df.drop(['index'], axis = 1)\n",
    "#dropping the obsolete index column \n"
   ]
  },
  {
   "cell_type": "code",
   "execution_count": 349,
   "metadata": {},
   "outputs": [
    {
     "data": {
      "text/html": [
       "<div>\n",
       "<style scoped>\n",
       "    .dataframe tbody tr th:only-of-type {\n",
       "        vertical-align: middle;\n",
       "    }\n",
       "\n",
       "    .dataframe tbody tr th {\n",
       "        vertical-align: top;\n",
       "    }\n",
       "\n",
       "    .dataframe thead th {\n",
       "        text-align: right;\n",
       "    }\n",
       "</style>\n",
       "<table border=\"1\" class=\"dataframe\">\n",
       "  <thead>\n",
       "    <tr style=\"text-align: right;\">\n",
       "      <th></th>\n",
       "      <th>File Name</th>\n",
       "      <th>Creation Date</th>\n",
       "    </tr>\n",
       "  </thead>\n",
       "  <tbody>\n",
       "    <tr>\n",
       "      <th>0</th>\n",
       "      <td>1.mov</td>\n",
       "      <td>2024-05-02 05:10:48</td>\n",
       "    </tr>\n",
       "    <tr>\n",
       "      <th>1</th>\n",
       "      <td>2.MOV</td>\n",
       "      <td>2024-05-02 05:33:46</td>\n",
       "    </tr>\n",
       "    <tr>\n",
       "      <th>2</th>\n",
       "      <td>3.mov</td>\n",
       "      <td>2024-05-02 05:45:39</td>\n",
       "    </tr>\n",
       "    <tr>\n",
       "      <th>3</th>\n",
       "      <td>4.mov</td>\n",
       "      <td>2024-05-02 06:36:46</td>\n",
       "    </tr>\n",
       "    <tr>\n",
       "      <th>4</th>\n",
       "      <td>5.mov</td>\n",
       "      <td>2024-05-02 07:16:04</td>\n",
       "    </tr>\n",
       "  </tbody>\n",
       "</table>\n",
       "</div>"
      ],
      "text/plain": [
       "  File Name       Creation Date\n",
       "0     IMG_8605.mov 2024-05-02 05:10:48\n",
       "1     IMG_8339.mov 2024-05-02 05:33:46\n",
       "2     IMG_8244.mov 2024-05-02 05:45:39\n",
       "3     IMG_0033.mov 2024-05-02 06:36:46\n",
       "4     IMG_9919.MOV 2024-05-02 07:16:04"
      ]
     },
     "execution_count": 349,
     "metadata": {},
     "output_type": "execute_result"
    }
   ],
   "source": [
    "df.head()\n",
    "#from the dataframe, it can be seen the earliest video was recorded on the 2nd of may at 5:10 AM"
   ]
  },
  {
   "cell_type": "code",
   "execution_count": 342,
   "metadata": {},
   "outputs": [],
   "source": [
    "count = 1\n",
    "#using a count variable allows to name the files in such a manner that it will be easy to assess the order, so the video that was recoreded first will be titled '1', the second recorded video will be titled '2', and so on,\n",
    "#this variable also helps ensure the correct number of files have been copied over to the new folder \n",
    "\n",
    "for i in range(len(df)):\n",
    "    filename = df.loc[i, 'File Name']\n",
    "    filename_full = join(folder_path, filename)\n",
    "    #creating the address path to access the files in the original folder\n",
    "\n",
    "    shutil.copy2(filename_full, new_folder)\n",
    "    #copying the file from the original folder to the new folder \n",
    "\n",
    "    name = join(new_folder, filename)\n",
    "    new_name = join(new_folder, str(count) + '.MOV')\n",
    "    os.rename(name, new_name)\n",
    "    #renaming the file once it has been copied into the new folder, with a name that reflects it's overall order in recording date \n",
    "    \n",
    "    count = count + 1"
   ]
  }
 ],
 "metadata": {
  "kernelspec": {
   "display_name": "Python 3",
   "language": "python",
   "name": "python3"
  },
  "language_info": {
   "codemirror_mode": {
    "name": "ipython",
    "version": 3
   },
   "file_extension": ".py",
   "mimetype": "text/x-python",
   "name": "python",
   "nbconvert_exporter": "python",
   "pygments_lexer": "ipython3",
   "version": "3.12.3"
  }
 },
 "nbformat": 4,
 "nbformat_minor": 2
}
